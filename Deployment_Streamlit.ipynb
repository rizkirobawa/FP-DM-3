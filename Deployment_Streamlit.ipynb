{
  "nbformat": 4,
  "nbformat_minor": 0,
  "metadata": {
    "colab": {
      "provenance": []
    },
    "kernelspec": {
      "name": "python3",
      "display_name": "Python 3"
    },
    "language_info": {
      "name": "python"
    }
  },
  "cells": [
    {
      "cell_type": "code",
      "execution_count": null,
      "metadata": {
        "id": "YS6RfL8COq5I"
      },
      "outputs": [],
      "source": [
        "import pickle\n",
        "import pandas as pd\n",
        "from sklearn.feature_extraction.text import TfidfVectorizer\n",
        "from sklearn.feature_extraction.text import TfidfTransformer\n",
        "from sklearn.naive_bayes import MultinomialNB\n",
        "from sklearn.metrics import accuracy_score\n",
        "from sklearn.metrics import classification_report\n",
        "\n",
        "data = pd.read_csv('cleanedDataPPN12.csv')\n",
        "\n",
        "# Vectorized\n",
        "vectorizer = TfidfVectorizer(\n",
        "    use_idf=True,             # Gunakan Inverse Document Frequency\n",
        "    strip_accents='ascii',    # Hapus aksen dari karakter\n",
        "    min_df=1,                 # Kata muncul minimal di 1 dokumen\n",
        "    max_df=0.95               # Hapus kata yang terlalu umum (>95% dokumen)\n",
        ")\n",
        "\n",
        "# 2. Data Splitting\n",
        "y = data.sentiment_label       # Label target (Positive/Negative)\n",
        "x = data.full_text           # Data input (teks)\n",
        "\n",
        "x_train, x_test, y_train, y_test = train_test_split(\n",
        "    x, y, test_size=0.3, random_state=33\n",
        ")\n",
        "\n",
        "# 3. Vectorization\n",
        "x_train_vect = vectorizer.fit_transform(x_train)\n",
        "x_test_vect = vectorizer.transform(x_test)\n",
        "\n",
        "# Naive Bayes\n",
        "\n",
        "# 4. Model Training\n",
        "mnb = MultinomialNB()\n",
        "mnb.fit(x_train_vect, y_train)\n",
        "\n",
        "# 5. Prediction\n",
        "y_pred = mnb.predict(x_test_vect)\n",
        "\n",
        "# 6. Evaluation\n",
        "accuracy = accuracy_score(y_test, y_pred)\n",
        "print(\"Naive Bayes Accuracy:\", accuracy)\n",
        "print(\"Classification Report:\")\n",
        "print(classification_report(y_test, y_pred))\n",
        "\n",
        "# Simpan model dan vectorizer ke file pickle\n",
        "with open(\"classifierMNB.pkl\", \"wb\") as model_file:\n",
        "    pickle.dump(mnb, model_file)\n",
        "\n",
        "with open(\"vectorizerMNB.pkl\", \"wb\") as vectorizer_file:\n",
        "    pickle.dump(vectorizer, vectorizer_file)"
      ]
    },
    {
      "cell_type": "code",
      "source": [
        "%%writefile app.py\n",
        "import streamlit as st\n",
        "import pickle\n",
        "from sklearn.feature_extraction.text import TfidfVectorizer\n",
        "\n",
        "# Load model dan vectorizer\n",
        "with open(\"classifierMNB.pkl\", \"rb\") as model_file:\n",
        "    classifier = pickle.load(model_file)\n",
        "\n",
        "with open(\"vectorizerMNB.pkl\", \"rb\") as vectorizer_file:\n",
        "    vectorizer = pickle.load(vectorizer_file)\n",
        "\n",
        "def predict_sentiment(text):\n",
        "    # Transform input text menggunakan vectorizer\n",
        "    text_vectorized = vectorizer.transform([text])\n",
        "    # Prediksi menggunakan model Random Forest\n",
        "    prediction = classifier.predict(text_vectorized)\n",
        "    return prediction[0]\n",
        "\n",
        "def main():\n",
        "    st.title(\"Prediksi Sentimen Terhadap Kenaikan PPN 12%\")\n",
        "    st.subheader(\"Input teks untuk mendapatkan prediksi sentimen: positive, negative, atau neutral.\")\n",
        "\n",
        "    # Input text dari user\n",
        "    user_input = st.text_input(\"Masukkan teks:\", placeholder=\"Contoh: Kenaikan PPN ini terlalu tinggi!\")\n",
        "\n",
        "    if st.button(\"Prediksi\"):\n",
        "        if user_input.strip() == \"\":\n",
        "            st.error(\"Teks tidak boleh kosong!\")\n",
        "        else:\n",
        "            sentiment = predict_sentiment(user_input)\n",
        "            st.success(f\"Hasil prediksi: **{sentiment}**\")\n",
        "\n",
        "if __name__ == \"__main__\":\n",
        "    main()"
      ],
      "metadata": {
        "id": "_ZdzhxEHPbsw"
      },
      "execution_count": null,
      "outputs": []
    },
    {
      "cell_type": "code",
      "source": [
        "!pip install streamlit"
      ],
      "metadata": {
        "id": "skMuyluvPjl0"
      },
      "execution_count": null,
      "outputs": []
    },
    {
      "cell_type": "code",
      "source": [
        "!wget -q -O - ipv4.icanhazip.com"
      ],
      "metadata": {
        "id": "BSjU8ZgGPj8v"
      },
      "execution_count": null,
      "outputs": []
    },
    {
      "cell_type": "code",
      "source": [
        "!streamlit run app.py & npx localtunnel --port 8501"
      ],
      "metadata": {
        "id": "38NdLq7jPlTj"
      },
      "execution_count": null,
      "outputs": []
    }
  ]
}